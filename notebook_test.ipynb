{
 "cells": [
  {
   "cell_type": "code",
   "execution_count": 13,
   "metadata": {},
   "outputs": [],
   "source": [
    "import pandas as pd\n",
    "#adding first line"
   ]
  },
  {
   "cell_type": "markdown",
   "metadata": {},
   "source": [
    "# Class FB Member"
   ]
  },
  {
   "cell_type": "code",
   "execution_count": 1,
   "metadata": {},
   "outputs": [],
   "source": [
    "import time\n",
    "from bs4 import BeautifulSoup\n",
    "\n",
    "class FBMember(object):\n",
    "\n",
    "    def __init__(self, driver):\n",
    "        self.__driver = driver\n",
    "\n",
    "    def login(self, user_name, password):\n",
    "        self.__driver.get('https://web.facebook.com/')\n",
    "\n",
    "        username_box = self.__driver.find_element_by_id('email')\n",
    "        username_box.send_keys(user_name)\n",
    "        print(\"Email Id entered\")\n",
    "        time.sleep(1)\n",
    "\n",
    "        password_box = self.__driver.find_element_by_id('pass')\n",
    "        password_box.send_keys(password)\n",
    "        print(\"Password entered\")\n",
    "        time.sleep(1)\n",
    "\n",
    "        login_box = self.__driver.find_element_by_id('loginbutton')\n",
    "        login_box.click()\n",
    "\n",
    "        time.sleep(20)\n",
    "\n",
    "    def scroll(self, pause_time):\n",
    "        # Get scroll height\n",
    "        last_height = self.__driver.execute_script('return document.body.scrollHeight')\n",
    "        while True:\n",
    "            # scroll to bottom\n",
    "            self.__driver.execute_script('window.scrollTo(0, document.body.scrollHeight);')\n",
    "            # wait loading page\n",
    "            time.sleep(pause_time)\n",
    "\n",
    "            new_height = self.__driver.execute_script('return document.body.scrollHeight')\n",
    "            if new_height == last_height:\n",
    "                break\n",
    "            last_height = new_height\n",
    "\n",
    "    def get_group_members(self, group_id):\n",
    "        self.__driver.get('https://web.facebook.com/groups/' + group_id + '/members')\n",
    "\n",
    "        # for k in range(1, 5):\n",
    "        #     self.__driver.execute_script(\"window.scrollTo(0, document.body.scrollHeight)\")\n",
    "        #     time.sleep(3)\n",
    "\n",
    "        self.scroll(3)\n",
    "\n",
    "        html = self.__driver.execute_script('return document.documentElement.outerHTML')\n",
    "        fb_html = BeautifulSoup(html, 'html.parser')\n",
    "        usr = fb_html.findAll('div', {'class': \"_60ri\"})\n",
    "        usr_url = [a.find('a').get('href') for a in usr]\n",
    "        return usr_url"
   ]
  },
  {
   "cell_type": "markdown",
   "metadata": {},
   "source": [
    "# Class FB Post"
   ]
  },
  {
   "cell_type": "code",
   "execution_count": 27,
   "metadata": {},
   "outputs": [],
   "source": [
    "import datetime as dt\n",
    "import time\n",
    "import ast\n",
    "from bs4 import BeautifulSoup\n",
    "\n",
    "class FBPosts(object):\n",
    "\n",
    "    def __init__(self, driver, days_lim):\n",
    "        self.__driver = driver\n",
    "        self.__days_lim = days_lim\n",
    "\n",
    "    def __get_date(self, post):\n",
    "        str_post_timestamp = post.get('data-store')\n",
    "        # convert timestamp to dictionary\n",
    "        post_timestamp = ast.literal_eval(str_post_timestamp)\n",
    "        post_date = dt.date.fromtimestamp(post_timestamp.get('timestamp'))\n",
    "        return post_date\n",
    "\n",
    "    def get_user_post(self, user_url):\n",
    "\n",
    "        days_lim = self.__days_lim\n",
    "        date_today = dt.date.today()\n",
    "\n",
    "        self.__driver.get(user_url)\n",
    "        time.sleep(5)\n",
    "\n",
    "        days_diff = 0\n",
    "        contents = []\n",
    "\n",
    "        # cek apakah post terakhir melebihi days_lim\n",
    "        src1 = self.__driver.page_source\n",
    "        soup1 = BeautifulSoup(src1, 'html.parser')\n",
    "        post1 = soup1.find('div', attrs={'_5pcb _4b0l _2q8l'})\n",
    "        \n",
    "        post_by = soup1.find('a', attrs={'_2nlw _2nlv'}).get_text()\n",
    "        \n",
    "        if post1:\n",
    "            first_date = self.__get_date(post1)\n",
    "            days_diff1 = (date_today - first_date).days\n",
    "            if days_diff1 > days_lim:\n",
    "                pass\n",
    "            else:\n",
    "                # Looping untuk scrolling\n",
    "                while days_diff < days_lim:\n",
    "                    # giving 5 seconds to load the page\n",
    "                    time.sleep(3)\n",
    "                    # scroll to the bottom of the page\n",
    "                    self.__driver.execute_script(\n",
    "                        \"window.scrollTo(0, document.body.scrollHeight);var lenOfPage=document.body.scrollHeight;return lenOfPage;\")\n",
    "                    # getting the page source\n",
    "                    src = self.__driver.page_source\n",
    "                    soup = BeautifulSoup(src, 'html.parser')\n",
    "                    posts = soup.find_all('div', attrs={'_5pcb _4b0l _2q8l'})\n",
    "                    # getting timestamp (str)\n",
    "                    str_earliest_timestamp = posts[-1].get('data-store')\n",
    "                    # convert timestamp to dictionary\n",
    "                    earliest_timestamp = ast.literal_eval(str_earliest_timestamp)\n",
    "                    earliest_date = dt.date.fromtimestamp(earliest_timestamp.get('timestamp'))\n",
    "                    days_diff = (date_today - earliest_date).days\n",
    "\n",
    "                # menghapus post yang lebih lama dari days_lim\n",
    "                earliest_date = self.__get_date(posts[-1])\n",
    "                days_diff2 = (date_today - earliest_date).days\n",
    "                while days_diff2 > days_lim:\n",
    "                    posts.remove(posts[-1])\n",
    "                    earliest_date = self.__get_date(posts[-1])\n",
    "                    days_diff2 = (date_today - earliest_date).days\n",
    "\n",
    "                for post in posts:\n",
    "                    # deleting element 'Lihat delengkapnya' & 'Lihat terjemahan'\n",
    "                    for span in post.find_all('span', attrs={'text_exposed_hide'}):\n",
    "                        span.decompose()\n",
    "                    for div in post.find_all('div', {'class': '_43f9 _63qh'}):\n",
    "                        div.decompose()\n",
    "                    post_date = self.__get_date(post)\n",
    "                    \n",
    "                    #extract content\n",
    "                    content_soup = post.find('div', {'data-testid':'post_message'})\n",
    "                    if content_soup:\n",
    "                        content = content_soup.get_text()\n",
    "                    else:\n",
    "                        continue\n",
    "                    \n",
    "                    #extract jumlah likes dan comments\n",
    "                    likes_tag = post.find('span',attrs={'_81hb'})\n",
    "                    if likes_tag:\n",
    "                        num_likes = likes_tag.get_text()\n",
    "                    else:\n",
    "                        num_likes = 0\n",
    "                    \n",
    "                    comments_tag = post.find('a',attrs={'_3hg- _42ft'})\n",
    "                    if comments_tag:\n",
    "                        num_comments = comments_tag.get_text().split(' ')[0]\n",
    "                    else:\n",
    "                        num_comments = 0\n",
    "                    \n",
    "                    content_info = {\n",
    "                        'post_date':post_date,\n",
    "                        'post_by': post_by,\n",
    "                        'content': content,\n",
    "                        'likes':num_likes,\n",
    "                        'comments':num_comments\n",
    "                    }\n",
    "                    contents.append(content_info)\n",
    "        return contents"
   ]
  },
  {
   "cell_type": "markdown",
   "metadata": {},
   "source": [
    "# Aplikasi"
   ]
  },
  {
   "cell_type": "markdown",
   "metadata": {},
   "source": [
    "## Variabel"
   ]
  },
  {
   "cell_type": "code",
   "execution_count": 3,
   "metadata": {},
   "outputs": [],
   "source": [
    "from selenium import webdriver\n",
    "\n",
    "driver = webdriver.Chrome(executable_path = \"C:/Program Files (x86)/chromedriver.exe\")\n",
    "\n",
    "username = \"sukontoraharjo@gmail.com\"\n",
    "password = \"akun0001\"\n",
    "group_id = \"743158729087573\"\n",
    "\n",
    "fb_member = FBMember(driver = driver)\n",
    "\n",
    "fb_post = FBPosts(driver=driver, days_lim=20)\n",
    "\n",
    "group_list = [group_id]"
   ]
  },
  {
   "cell_type": "markdown",
   "metadata": {},
   "source": [
    "## Log in"
   ]
  },
  {
   "cell_type": "code",
   "execution_count": 4,
   "metadata": {},
   "outputs": [
    {
     "name": "stdout",
     "output_type": "stream",
     "text": [
      "Email Id entered\n",
      "Password entered\n"
     ]
    }
   ],
   "source": [
    "fb_member.login(username, password)"
   ]
  },
  {
   "cell_type": "markdown",
   "metadata": {},
   "source": [
    "## Get Member"
   ]
  },
  {
   "cell_type": "code",
   "execution_count": 7,
   "metadata": {},
   "outputs": [
    {
     "name": "stdout",
     "output_type": "stream",
     "text": [
      "1968\n"
     ]
    }
   ],
   "source": [
    "for group in group_list:\n",
    "    user_list = fb_member.get_group_members(group)\n",
    "print(len(user_list))"
   ]
  },
  {
   "cell_type": "code",
   "execution_count": 9,
   "metadata": {},
   "outputs": [
    {
     "data": {
      "text/plain": [
       "'https://www.facebook.com/profile.php?id=100005244406927&fref=gm&__tn__=%2Cd-_-R&eid=ARAUf04RoCvmiEd2_Gqxbt8x-vk3vP06Rtqzhj3N-GhvU3BF4p2K3CM2-Z3Y9xAb7JUB_X7vzoiQb-iI&dti=743158729087573&hc_location=group'"
      ]
     },
     "execution_count": 9,
     "metadata": {},
     "output_type": "execute_result"
    }
   ],
   "source": [
    "user_list[10]"
   ]
  },
  {
   "cell_type": "markdown",
   "metadata": {},
   "source": [
    "## Get Post"
   ]
  },
  {
   "cell_type": "code",
   "execution_count": 28,
   "metadata": {},
   "outputs": [],
   "source": [
    "fb_post = FBPosts(driver=driver, days_lim=10)\n",
    "all_user_post = []\n",
    "for user in [user_list[10]]:\n",
    "    all_user_post = all_user_post+fb_post.get_user_post(user)"
   ]
  },
  {
   "cell_type": "code",
   "execution_count": 29,
   "metadata": {},
   "outputs": [
    {
     "data": {
      "text/html": [
       "<div>\n",
       "<style scoped>\n",
       "    .dataframe tbody tr th:only-of-type {\n",
       "        vertical-align: middle;\n",
       "    }\n",
       "\n",
       "    .dataframe tbody tr th {\n",
       "        vertical-align: top;\n",
       "    }\n",
       "\n",
       "    .dataframe thead th {\n",
       "        text-align: right;\n",
       "    }\n",
       "</style>\n",
       "<table border=\"1\" class=\"dataframe\">\n",
       "  <thead>\n",
       "    <tr style=\"text-align: right;\">\n",
       "      <th></th>\n",
       "      <th>post_date</th>\n",
       "      <th>post_by</th>\n",
       "      <th>content</th>\n",
       "      <th>likes</th>\n",
       "      <th>comments</th>\n",
       "    </tr>\n",
       "  </thead>\n",
       "  <tbody>\n",
       "    <tr>\n",
       "      <th>0</th>\n",
       "      <td>2020-07-23</td>\n",
       "      <td>Rrusman (Chie baudt thea)</td>\n",
       "      <td>Jadi amek kapegung kie aing..</td>\n",
       "      <td>5</td>\n",
       "      <td>6</td>\n",
       "    </tr>\n",
       "    <tr>\n",
       "      <th>1</th>\n",
       "      <td>2020-07-23</td>\n",
       "      <td>Rrusman (Chie baudt thea)</td>\n",
       "      <td>Bgg</td>\n",
       "      <td>3</td>\n",
       "      <td>0</td>\n",
       "    </tr>\n",
       "    <tr>\n",
       "      <th>2</th>\n",
       "      <td>2020-07-21</td>\n",
       "      <td>Rrusman (Chie baudt thea)</td>\n",
       "      <td>ker jalangarteh aya we jelema nu pibangusen😠</td>\n",
       "      <td>13</td>\n",
       "      <td>0</td>\n",
       "    </tr>\n",
       "    <tr>\n",
       "      <th>3</th>\n",
       "      <td>2020-07-21</td>\n",
       "      <td>Rrusman (Chie baudt thea)</td>\n",
       "      <td>Bilih aya numndakan kunci motor aya tali cokla...</td>\n",
       "      <td>32</td>\n",
       "      <td>8</td>\n",
       "    </tr>\n",
       "    <tr>\n",
       "      <th>4</th>\n",
       "      <td>2020-07-21</td>\n",
       "      <td>Rrusman (Chie baudt thea)</td>\n",
       "      <td>cuacana mantep</td>\n",
       "      <td>21</td>\n",
       "      <td>2</td>\n",
       "    </tr>\n",
       "    <tr>\n",
       "      <th>5</th>\n",
       "      <td>2020-07-20</td>\n",
       "      <td>Rrusman (Chie baudt thea)</td>\n",
       "      <td>usum kiemh nu penting ngopi,dahar,budak weh ka...</td>\n",
       "      <td>29</td>\n",
       "      <td>15</td>\n",
       "    </tr>\n",
       "    <tr>\n",
       "      <th>6</th>\n",
       "      <td>2020-07-19</td>\n",
       "      <td>Rrusman (Chie baudt thea)</td>\n",
       "      <td>Lumanglimung sorangan.tepuguh eweh budak mch..</td>\n",
       "      <td>32</td>\n",
       "      <td>4</td>\n",
       "    </tr>\n",
       "    <tr>\n",
       "      <th>7</th>\n",
       "      <td>2020-07-14</td>\n",
       "      <td>Rrusman (Chie baudt thea)</td>\n",
       "      <td>Kudu jadi contoh nu sk nyimpen hp dina jok motor🙏</td>\n",
       "      <td>0</td>\n",
       "      <td>0</td>\n",
       "    </tr>\n",
       "    <tr>\n",
       "      <th>8</th>\n",
       "      <td>2020-07-14</td>\n",
       "      <td>Rrusman (Chie baudt thea)</td>\n",
       "      <td>Kareasel</td>\n",
       "      <td>11</td>\n",
       "      <td>0</td>\n",
       "    </tr>\n",
       "    <tr>\n",
       "      <th>9</th>\n",
       "      <td>2020-07-13</td>\n",
       "      <td>Rrusman (Chie baudt thea)</td>\n",
       "      <td>BUTUH LOKER,,</td>\n",
       "      <td>17</td>\n",
       "      <td>0</td>\n",
       "    </tr>\n",
       "  </tbody>\n",
       "</table>\n",
       "</div>"
      ],
      "text/plain": [
       "    post_date                    post_by  \\\n",
       "0  2020-07-23  Rrusman (Chie baudt thea)   \n",
       "1  2020-07-23  Rrusman (Chie baudt thea)   \n",
       "2  2020-07-21  Rrusman (Chie baudt thea)   \n",
       "3  2020-07-21  Rrusman (Chie baudt thea)   \n",
       "4  2020-07-21  Rrusman (Chie baudt thea)   \n",
       "5  2020-07-20  Rrusman (Chie baudt thea)   \n",
       "6  2020-07-19  Rrusman (Chie baudt thea)   \n",
       "7  2020-07-14  Rrusman (Chie baudt thea)   \n",
       "8  2020-07-14  Rrusman (Chie baudt thea)   \n",
       "9  2020-07-13  Rrusman (Chie baudt thea)   \n",
       "\n",
       "                                             content likes comments  \n",
       "0                      Jadi amek kapegung kie aing..     5        6  \n",
       "1                                                Bgg     3        0  \n",
       "2       ker jalangarteh aya we jelema nu pibangusen😠    13        0  \n",
       "3  Bilih aya numndakan kunci motor aya tali cokla...    32        8  \n",
       "4                                     cuacana mantep    21        2  \n",
       "5  usum kiemh nu penting ngopi,dahar,budak weh ka...    29       15  \n",
       "6     Lumanglimung sorangan.tepuguh eweh budak mch..    32        4  \n",
       "7  Kudu jadi contoh nu sk nyimpen hp dina jok motor🙏     0        0  \n",
       "8                                           Kareasel    11        0  \n",
       "9                                      BUTUH LOKER,,    17        0  "
      ]
     },
     "execution_count": 29,
     "metadata": {},
     "output_type": "execute_result"
    }
   ],
   "source": [
    "pd.DataFrame(all_user_post)"
   ]
  },
  {
   "cell_type": "code",
   "execution_count": 16,
   "metadata": {},
   "outputs": [],
   "source": [
    "src = driver.page_source\n",
    "soup = BeautifulSoup(src, 'html.parser')\n",
    "posts = soup.find_all('div', attrs={'_5pcb _4b0l _2q8l'})"
   ]
  },
  {
   "cell_type": "code",
   "execution_count": 22,
   "metadata": {},
   "outputs": [
    {
     "data": {
      "text/plain": [
       "'5'"
      ]
     },
     "execution_count": 22,
     "metadata": {},
     "output_type": "execute_result"
    }
   ],
   "source": [
    "posts[0].find('span',attrs={'_81hb'}).get_text()"
   ]
  }
 ],
 "metadata": {
  "kernelspec": {
   "display_name": "Python 3",
   "language": "python",
   "name": "python3"
  },
  "language_info": {
   "codemirror_mode": {
    "name": "ipython",
    "version": 3
   },
   "file_extension": ".py",
   "mimetype": "text/x-python",
   "name": "python",
   "nbconvert_exporter": "python",
   "pygments_lexer": "ipython3",
   "version": "3.8.3"
  }
 },
 "nbformat": 4,
 "nbformat_minor": 4
}
